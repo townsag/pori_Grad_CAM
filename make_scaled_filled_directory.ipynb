{
 "cells": [
  {
   "cell_type": "code",
   "execution_count": 4,
   "outputs": [],
   "source": [
    "import os\n",
    "from PIL import Image\n",
    "from functions import scale_and_fill"
   ],
   "metadata": {
    "collapsed": false
   }
  },
  {
   "cell_type": "code",
   "execution_count": 5,
   "metadata": {
    "collapsed": true
   },
   "outputs": [],
   "source": [
    "parent_directory_path = \"/Users/andrewtownsend/PycharmProjects/make_tf_work/classes_over_100_df_2\"\n",
    "new_directory_path = \"/Users/andrewtownsend/PycharmProjects/make_tf_work/scaled_filled_classes_over_100\"\n",
    "max_side_length = 224\n",
    "noise_tuple = ((167, 1.5), (170, 1), (170, 1.5))"
   ]
  },
  {
   "cell_type": "code",
   "execution_count": 13,
   "outputs": [],
   "source": [
    "for sub_directory in os.listdir(parent_directory_path):\n",
    "    sub_directory_path = os.path.join(parent_directory_path, sub_directory)\n",
    "    if os.path.isdir(sub_directory_path):\n",
    "        for file_name in os.listdir(sub_directory_path):\n",
    "            file_path = os.path.join(sub_directory_path, file_name)\n",
    "            if os.path.isfile(file_path):\n",
    "                try:\n",
    "                    with Image.open(file_path) as im:\n",
    "                        # print(\"got here1\", flush=True)\n",
    "                        temp_scaled_img = scale_and_fill(im, max_edge=max_side_length, noise_tuple=noise_tuple)\n",
    "                        # print(\"got here2\", flush=True)\n",
    "                        # print(os.path.join(new_directory_path, sub_directory, file_name), flush=True)\n",
    "\n",
    "                        temp_scaled_img_directory_path = os.path.join(new_directory_path, sub_directory)\n",
    "                        if not os.path.exists(temp_scaled_img_directory_path):\n",
    "                            os.makedirs(temp_scaled_img_directory_path)\n",
    "\n",
    "\n",
    "                        # print(temp_scaled_img.verify(), flush=True)\n",
    "                        temp_scaled_img.save(os.path.join(temp_scaled_img_directory_path, file_name))\n",
    "                except OSError:\n",
    "                    print(\"OSError\")\n",
    "                    pass"
   ],
   "metadata": {
    "collapsed": false
   }
  },
  {
   "cell_type": "code",
   "execution_count": null,
   "outputs": [],
   "source": [],
   "metadata": {
    "collapsed": false
   }
  }
 ],
 "metadata": {
  "kernelspec": {
   "display_name": "Python 3",
   "language": "python",
   "name": "python3"
  },
  "language_info": {
   "codemirror_mode": {
    "name": "ipython",
    "version": 2
   },
   "file_extension": ".py",
   "mimetype": "text/x-python",
   "name": "python",
   "nbconvert_exporter": "python",
   "pygments_lexer": "ipython2",
   "version": "2.7.6"
  }
 },
 "nbformat": 4,
 "nbformat_minor": 0
}
